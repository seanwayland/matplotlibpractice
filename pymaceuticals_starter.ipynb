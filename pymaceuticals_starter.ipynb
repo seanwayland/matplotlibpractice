{
 "cells": [
  {
   "cell_type": "markdown",
   "metadata": {},
   "source": [
    "## Observations and Insights"
   ]
  },
  {
   "cell_type": "markdown",
   "metadata": {},
   "source": []
  },
  {
   "cell_type": "markdown",
   "metadata": {},
   "source": [
    "## Dependencies and starter code"
   ]
  },
  {
   "cell_type": "code",
   "execution_count": 1,
   "metadata": {},
   "outputs": [],
   "source": [
    "'''\n",
    "Look across all previously generated figures and tables and write at least\n",
    "three observations or inferences that can be made from the data. \n",
    "Include these observations at the top of notebook.\n",
    "\n",
    "1) Mice died during the study. Perhaps due to old age not treatment. \n",
    "2) Almost 50 % of the mice in the study were female.  \n",
    "3) In this study tumor volumes in Capomulin and Ramican were lower. Ramican appeared to work best. \n",
    "For fun I ran a \n",
    "\n",
    "\n",
    "\n",
    "'''\n",
    "\n",
    "\n",
    "\n",
    "# Dependencies and Setup\n",
    "import matplotlib.pyplot as plt\n",
    "import pandas as pd\n",
    "import scipy.stats as st\n",
    "from matplotlib import pyplot as plt\n",
    "from scipy.stats import linregress\n",
    "import numpy as np\n",
    "from sklearn import datasets\n",
    "\n",
    "\n",
    "# Study data files\n",
    "mouse_metadata = \"data/Mouse_metadata.csv\"\n",
    "study_results = \"data/Study_results.csv\"\n",
    "\n",
    "# Read the mouse data and the study results\n",
    "mouse_metadata = pd.read_csv(mouse_metadata)\n",
    "study_results = pd.read_csv(study_results)\n",
    "\n",
    "# Combine the data into a single dataset\n",
    "ds = pd.merge(mouse_metadata, study_results, how=\"left\", on=[\"Mouse ID\"])\n",
    "\n",
    "\n",
    "\n"
   ]
  },
  {
   "cell_type": "markdown",
   "metadata": {},
   "source": [
    "## Summary statistics"
   ]
  },
  {
   "cell_type": "code",
   "execution_count": 2,
   "metadata": {},
   "outputs": [
    {
     "data": {
      "text/html": [
       "<div>\n",
       "<style scoped>\n",
       "    .dataframe tbody tr th:only-of-type {\n",
       "        vertical-align: middle;\n",
       "    }\n",
       "\n",
       "    .dataframe tbody tr th {\n",
       "        vertical-align: top;\n",
       "    }\n",
       "\n",
       "    .dataframe thead th {\n",
       "        text-align: right;\n",
       "    }\n",
       "</style>\n",
       "<table border=\"1\" class=\"dataframe\">\n",
       "  <thead>\n",
       "    <tr style=\"text-align: right;\">\n",
       "      <th>Drug Regimen</th>\n",
       "      <th>Capomulin</th>\n",
       "      <th>Ceftamin</th>\n",
       "      <th>Infubinol</th>\n",
       "      <th>Ketapril</th>\n",
       "      <th>Naftisol</th>\n",
       "      <th>Placebo</th>\n",
       "      <th>Propriva</th>\n",
       "      <th>Ramicane</th>\n",
       "      <th>Stelasyn</th>\n",
       "      <th>Zoniferol</th>\n",
       "    </tr>\n",
       "  </thead>\n",
       "  <tbody>\n",
       "    <tr>\n",
       "      <td>mean</td>\n",
       "      <td>40.675741</td>\n",
       "      <td>52.591172</td>\n",
       "      <td>52.884795</td>\n",
       "      <td>55.235638</td>\n",
       "      <td>54.331565</td>\n",
       "      <td>54.033581</td>\n",
       "      <td>52.322552</td>\n",
       "      <td>40.216745</td>\n",
       "      <td>54.233149</td>\n",
       "      <td>53.236507</td>\n",
       "    </tr>\n",
       "    <tr>\n",
       "      <td>Median</td>\n",
       "      <td>41.557809</td>\n",
       "      <td>51.776157</td>\n",
       "      <td>51.820584</td>\n",
       "      <td>53.698743</td>\n",
       "      <td>52.509285</td>\n",
       "      <td>52.288934</td>\n",
       "      <td>50.854632</td>\n",
       "      <td>40.673236</td>\n",
       "      <td>52.431737</td>\n",
       "      <td>51.818479</td>\n",
       "    </tr>\n",
       "    <tr>\n",
       "      <td>Var</td>\n",
       "      <td>24.947764</td>\n",
       "      <td>39.290177</td>\n",
       "      <td>43.128684</td>\n",
       "      <td>68.553577</td>\n",
       "      <td>66.173479</td>\n",
       "      <td>61.168083</td>\n",
       "      <td>42.351070</td>\n",
       "      <td>23.486704</td>\n",
       "      <td>59.450562</td>\n",
       "      <td>48.533355</td>\n",
       "    </tr>\n",
       "    <tr>\n",
       "      <td>Std</td>\n",
       "      <td>4.994774</td>\n",
       "      <td>6.268188</td>\n",
       "      <td>6.567243</td>\n",
       "      <td>8.279709</td>\n",
       "      <td>8.134708</td>\n",
       "      <td>7.821003</td>\n",
       "      <td>6.507770</td>\n",
       "      <td>4.846308</td>\n",
       "      <td>7.710419</td>\n",
       "      <td>6.966589</td>\n",
       "    </tr>\n",
       "    <tr>\n",
       "      <td>SEM</td>\n",
       "      <td>0.329346</td>\n",
       "      <td>0.469821</td>\n",
       "      <td>0.492236</td>\n",
       "      <td>0.603860</td>\n",
       "      <td>0.596466</td>\n",
       "      <td>0.581331</td>\n",
       "      <td>0.512884</td>\n",
       "      <td>0.320955</td>\n",
       "      <td>0.573111</td>\n",
       "      <td>0.516398</td>\n",
       "    </tr>\n",
       "  </tbody>\n",
       "</table>\n",
       "</div>"
      ],
      "text/plain": [
       "Drug Regimen  Capomulin   Ceftamin  Infubinol   Ketapril   Naftisol  \\\n",
       "mean          40.675741  52.591172  52.884795  55.235638  54.331565   \n",
       "Median        41.557809  51.776157  51.820584  53.698743  52.509285   \n",
       "Var           24.947764  39.290177  43.128684  68.553577  66.173479   \n",
       "Std            4.994774   6.268188   6.567243   8.279709   8.134708   \n",
       "SEM            0.329346   0.469821   0.492236   0.603860   0.596466   \n",
       "\n",
       "Drug Regimen    Placebo   Propriva   Ramicane   Stelasyn  Zoniferol  \n",
       "mean          54.033581  52.322552  40.216745  54.233149  53.236507  \n",
       "Median        52.288934  50.854632  40.673236  52.431737  51.818479  \n",
       "Var           61.168083  42.351070  23.486704  59.450562  48.533355  \n",
       "Std            7.821003   6.507770   4.846308   7.710419   6.966589  \n",
       "SEM            0.581331   0.512884   0.320955   0.573111   0.516398  "
      ]
     },
     "execution_count": 2,
     "metadata": {},
     "output_type": "execute_result"
    }
   ],
   "source": [
    "# Generate a summary statistics table of mean, median, variance, standard deviation, and SEM of the tumor volume for each regimen\n",
    "\n",
    "dsMean = pd.DataFrame(ds.groupby(\"Drug Regimen\").mean())\n",
    "dsMean = dsMean['Tumor Volume (mm3)']\n",
    "dsMedian = pd.DataFrame(ds.groupby(\"Drug Regimen\").median())\n",
    "dsMedian = dsMedian['Tumor Volume (mm3)']\n",
    "dsVar = pd.DataFrame(ds.groupby(\"Drug Regimen\").var())\n",
    "dsVar = dsVar['Tumor Volume (mm3)']\n",
    "dsStd = pd.DataFrame(ds.groupby(\"Drug Regimen\").std())\n",
    "dsStd = dsStd['Tumor Volume (mm3)']\n",
    "dsSem = pd.DataFrame(ds.groupby(\"Drug Regimen\").sem())\n",
    "dsSem = dsSem['Tumor Volume (mm3)']\n",
    "\n",
    "dsStats = pd.DataFrame([dsMean,dsMedian,dsVar,dsStd,dsSem],index=['mean','Median','Var','Std','SEM'])\n",
    "\n",
    "dsStats\n",
    "\n",
    "\n",
    "\n",
    "\n"
   ]
  },
  {
   "cell_type": "markdown",
   "metadata": {},
   "source": [
    "## Bar plots"
   ]
  },
  {
   "cell_type": "code",
   "execution_count": 3,
   "metadata": {
    "scrolled": true
   },
   "outputs": [
    {
     "data": {
      "text/plain": [
       "Text(0.5, 1.0, 'Data Points for each Drug Regimen')"
      ]
     },
     "execution_count": 3,
     "metadata": {},
     "output_type": "execute_result"
    },
    {
     "data": {
      "image/png": "[encoded data removed]",
      "text/plain": [
       "<Figure size 432x288 with 1 Axes>"
      ]
     },
     "metadata": {
      "needs_background": "light"
     },
     "output_type": "display_data"
    }
   ],
   "source": [
    "# Generate a bar plot showing number of data points for each treatment regimen using pandas\n",
    "dsCount = ds.groupby(\"Drug Regimen\").count()\n",
    "dsCount['data points'] = dsCount['Mouse ID']\n",
    "ax = dsCount.plot.bar(y = \"data points\")\n",
    "ax.set_ylabel(\"Number of observations\")\n",
    "ax.set_title('Data Points for each Drug Regimen')\n"
   ]
  },
  {
   "cell_type": "code",
   "execution_count": 4,
   "metadata": {},
   "outputs": [
    {
     "data": {
      "text/plain": [
       "Text(0.5, 1.0, 'Data Points by Drug Regimen')"
      ]
     },
     "execution_count": 4,
     "metadata": {},
     "output_type": "execute_result"
    },
    {
     "data": {
      "image/png": "[encoded data removed]",
      "text/plain": [
       "<Figure size 432x288 with 1 Axes>"
      ]
     },
     "metadata": {
      "needs_background": "light"
     },
     "output_type": "display_data"
    }
   ],
   "source": [
    "# Generate a bar plot showing number of data points for each treatment regimen using pyplot\n",
    "labels = dsCount.index.tolist()\n",
    "#print(labels)\n",
    "\n",
    "plt.bar(labels, dsCount['Mouse ID'], width = 0.5)\n",
    "plt.xticks(rotation=90)\n",
    "\n",
    "plt.xlabel('Drug Regimen')\n",
    "plt.ylabel('Number of Observations')\n",
    "\n",
    "plt.title('Data Points by Drug Regimen')\n",
    "\n"
   ]
  },
  {
   "cell_type": "markdown",
   "metadata": {},
   "source": [
    "## Pie plots"
   ]
  },
  {
   "cell_type": "code",
   "execution_count": 5,
   "metadata": {},
   "outputs": [
    {
     "data": {
      "text/plain": [
       "<matplotlib.axes._subplots.AxesSubplot at 0x259686cb6c8>"
      ]
     },
     "execution_count": 5,
     "metadata": {},
     "output_type": "execute_result"
    },
    {
     "data": {
      "image/png": "[encoded data removed]",
      "text/plain": [
       "<Figure size 432x288 with 1 Axes>"
      ]
     },
     "metadata": {},
     "output_type": "display_data"
    }
   ],
   "source": [
    "# Generate a pie plot showing the distribution of female versus male mice using pandas\n",
    "SexCount = mouse_metadata.groupby(\"Sex\").count()\n",
    "SexCount['sex of mice'] = SexCount['Mouse ID']\n",
    "\n",
    "#print(SexCount)\n",
    "plot = SexCount.plot.pie(y='sex of mice', legend=False, autopct='%0.1f%%')\n",
    "plot.set_title('Sex of mice in study')\n",
    "plot\n",
    "\n",
    "\n"
   ]
  },
  {
   "cell_type": "code",
   "execution_count": 6,
   "metadata": {},
   "outputs": [
    {
     "data": {
      "image/png": "[encoded data removed]",
      "text/plain": [
       "<Figure size 432x288 with 1 Axes>"
      ]
     },
     "metadata": {},
     "output_type": "display_data"
    }
   ],
   "source": [
    "# Generate a pie plot showing the distribution of female versus male mice using pyplot\n",
    "fig1, ax1 = plt.subplots()\n",
    "\n",
    "\n",
    "ax1.pie(SexCount['sex of mice'],labels = ('Female','Male'),autopct='%0.1f%%',)\n",
    "ax1.set(title = \"Sex of mice in study\")\n",
    "#ax1.axis('equal')  # Equal aspect ratio ensures that pie is drawn as a circle.\n",
    "\n",
    "plt.show()\n"
   ]
  },
  {
   "cell_type": "markdown",
   "metadata": {},
   "source": [
    "## Quartiles, outliers and boxplots"
   ]
  },
  {
   "cell_type": "code",
   "execution_count": 7,
   "metadata": {},
   "outputs": [
    {
     "name": "stdout",
     "output_type": "stream",
     "text": [
      "25\n",
      "The interquartile range of Capomulin is: 7.781863460000004\n",
      "The interquartile range of Ramican is: 9.098536719999998\n",
      "The interquartile range of Infubinol is: 11.477135160000003\n",
      "The interquartile range of Ceftamin is: 15.577752179999997\n",
      "Capomulin values below 20.70456164999999 could be outliers.\n",
      "Ramican values below 17.912664470000003 could be outliers.\n",
      "Infubinol values below 36.83290494999999 could be outliers.\n",
      "Ceftamin values below 25.355449580000002 could be outliers.\n",
      "Capomulin values above 51.83201549 could be outliers.\n",
      "Ramican values above 54.30681135 could be outliers.\n",
      "Infubinol values above 82.74144559000001 could be outliers.\n",
      "Ceftamin values above 87.66645829999999 could be outliers.\n",
      " \n",
      "Potential Outliers Array Capomulin:\n",
      "[]\n",
      " \n",
      "No outliers in Capomulin values\n",
      " \n",
      "Potential Outliers Array Ramican:\n",
      "[]\n",
      " \n",
      "No outliers in Ramican values\n",
      " \n",
      "Potential Outliers Array Infubinol:\n",
      "[36.321345799999996]\n",
      " \n",
      "Potential outliers exist in Infubinol values\n",
      " \n",
      "Potential Outliers Array Ceftamin:\n",
      "[]\n",
      " \n",
      "No outliers in Ceftamin values\n"
     ]
    }
   ],
   "source": [
    "\n",
    "\n",
    "# Calculate the final tumor volume of each mouse across four of the most promising treatment regimens. Calculate the IQR and quantitatively determine if there are any potential outliers.\n",
    "\n",
    "\n",
    "\n",
    "finaldCap = ds[ds['Drug Regimen'] == 'Capomulin']\n",
    "#finaldCapmin = finaldCap.loc[finaldCap.groupby('Mouse ID')['Timepoint'].idxmin()]\n",
    "finaldCap = finaldCap.loc[finaldCap.groupby('Mouse ID')['Timepoint'].idxmax()]\n",
    "\n",
    "\n",
    "\n",
    "\n",
    "\n",
    "finaldRam = ds[ds['Drug Regimen'] == 'Ramicane']\n",
    "finaldRam = finaldRam.loc[finaldRam.groupby('Mouse ID')['Timepoint'].idxmax()]\n",
    "\n",
    "\n",
    "\n",
    "finaldInf = ds[ds['Drug Regimen'] == 'Infubinol']\n",
    "\n",
    "finaldInf = finaldInf.loc[finaldInf.groupby('Mouse ID')['Timepoint'].idxmax()]\n",
    "\n",
    "\n",
    "finaldCef = ds[ds['Drug Regimen'] == 'Ceftamin']\n",
    "finaldCef = finaldCef.loc[finaldCef.groupby('Mouse ID')['Timepoint'].idxmax()]\n",
    "\n",
    "print(len(finaldCef))\n",
    "\n",
    "\n",
    "quartilesCap = finaldCap['Tumor Volume (mm3)'].quantile([.25,.5,.75])\n",
    "quartilesRam = finaldRam['Tumor Volume (mm3)'].quantile([.25,.5,.75])\n",
    "quartilesInf = finaldInf['Tumor Volume (mm3)'].quantile([.25,.5,.75])\n",
    "quartilesCef = finaldCef['Tumor Volume (mm3)'].quantile([.25,.5,.75])\n",
    "\n",
    "lowerqCap = quartilesCap[0.25]\n",
    "lowerqRam = quartilesRam[0.25]\n",
    "lowerqInf = quartilesInf[0.25]\n",
    "lowerqCef = quartilesCef[0.25]\n",
    "\n",
    "upperqCap = quartilesCap[0.75]\n",
    "upperqRam = quartilesRam[0.75]\n",
    "upperqInf = quartilesInf[0.75]\n",
    "upperqCef = quartilesCef[0.75]\n",
    "\n",
    "iqrCap = upperqCap-lowerqCap\n",
    "iqrRam = upperqRam-lowerqRam\n",
    "iqrInf = upperqInf-lowerqInf\n",
    "iqrCef = upperqCef-lowerqCef\n",
    "\n",
    "\n",
    "print(f\"The interquartile range of Capomulin is: {iqrCap}\")\n",
    "print(f\"The interquartile range of Ramican is: {iqrRam}\")\n",
    "print(f\"The interquartile range of Infubinol is: {iqrInf}\")\n",
    "print(f\"The interquartile range of Ceftamin is: {iqrCef}\")\n",
    "\n",
    "\n",
    "\n",
    "lowerBoundCap = lowerqCap - (1.5*iqrCap)\n",
    "lowerBoundRam = lowerqRam - (1.5*iqrRam)\n",
    "lowerBoundInf = lowerqInf - (1.5*iqrInf)\n",
    "lowerBoundCef = lowerqCef - (1.5*iqrCef)\n",
    "\n",
    "upperBoundCap = upperqCap + (1.5*iqrCap)\n",
    "upperBoundRam = upperqRam + (1.5*iqrRam)\n",
    "upperBoundInf = upperqInf + (1.5*iqrInf)\n",
    "upperBoundCef = upperqCef + (1.5*iqrCef)\n",
    "\n",
    "\n",
    "print(f\"Capomulin values below {lowerBoundCap} could be outliers.\")\n",
    "print(f\"Ramican values below {lowerBoundRam} could be outliers.\")\n",
    "print(f\"Infubinol values below {lowerBoundInf} could be outliers.\")\n",
    "print(f\"Ceftamin values below {lowerBoundCef} could be outliers.\")\n",
    "\n",
    "print(f\"Capomulin values above {upperBoundCap} could be outliers.\")\n",
    "print(f\"Ramican values above {upperBoundRam} could be outliers.\")\n",
    "print(f\"Infubinol values above {upperBoundInf} could be outliers.\")\n",
    "print(f\"Ceftamin values above {upperBoundCef} could be outliers.\")\n",
    "\n",
    "\n",
    "\n",
    "outliersCap = []\n",
    "for value in finaldCap['Tumor Volume (mm3)'] :\n",
    "        \n",
    "        if value > upperBoundCap  or value < lowerBoundCap :\n",
    "            outliersCap.append(value)\n",
    "print(\" \")            \n",
    "print(\"Potential Outliers Array Capomulin:\")\n",
    "print(outliersCap)\n",
    "print(\" \")\n",
    "if not outliersCap:\n",
    "  print(\"No outliers in Capomulin values\")\n",
    "else:\n",
    " print(\"Potential outliers exist in Capomulin values\")\n",
    "\n",
    "outliersRam = []\n",
    "for value in finaldRam['Tumor Volume (mm3)'] :\n",
    "       \n",
    "        if value > upperBoundRam  or value < lowerBoundRam :\n",
    "            outliersRam.append(value)\n",
    " \n",
    "print(\" \")\n",
    "print(\"Potential Outliers Array Ramican:\")\n",
    "print(outliersRam)\n",
    "print(\" \")\n",
    "if not outliersRam:\n",
    "  print(\"No outliers in Ramican values\")\n",
    "else:\n",
    " print(\"Potential outliers exist in Ramican values\")\n",
    "\n",
    "outliersInf = []\n",
    "for value in finaldInf['Tumor Volume (mm3)'] :\n",
    "        if value > upperBoundInf  or value < lowerBoundInf :\n",
    "            outliersInf.append(value)\n",
    "print(\" \")            \n",
    "print(\"Potential Outliers Array Infubinol:\")\n",
    "print(outliersInf)\n",
    "print(\" \")\n",
    "\n",
    "if not outliersInf:\n",
    "  print(\"No outliers in Infubinol values\")\n",
    "else:\n",
    " print(\"Potential outliers exist in Infubinol values\")\n",
    "\n",
    "outliersCef = []\n",
    "for value in finaldCef['Tumor Volume (mm3)'] :\n",
    "        if value > upperBoundCef  or value < lowerBoundCef :\n",
    "            outliersCef.append(value)\n",
    "print(\" \")            \n",
    "print(\"Potential Outliers Array Ceftamin:\")\n",
    "print(outliersCef) \n",
    "print(\" \")\n",
    "if not outliersCef:\n",
    "  print(\"No outliers in Ceftamin values\")\n",
    "else:\n",
    " print(\"Potential Outliers exist in Ceftamin values\")\n"
   ]
  },
  {
   "cell_type": "code",
   "execution_count": null,
   "metadata": {},
   "outputs": [],
   "source": []
  },
  {
   "cell_type": "code",
   "execution_count": 8,
   "metadata": {},
   "outputs": [
    {
     "data": {
      "image/png": "[encoded data removed]",
      "text/plain": [
       "<Figure size 432x288 with 1 Axes>"
      ]
     },
     "metadata": {
      "needs_background": "light"
     },
     "output_type": "display_data"
    }
   ],
   "source": [
    "# Generate a box plot of the final tumor volume of each mouse across four regimens of interest\n",
    "\n",
    "#finaldCap\n",
    "CapVols = finaldCap['Tumor Volume (mm3)'].tolist()\n",
    "RamVols = finaldRam['Tumor Volume (mm3)'].tolist()\n",
    "InfVols = finaldInf['Tumor Volume (mm3)'].tolist()\n",
    "CefVols = finaldCef['Tumor Volume (mm3)'].tolist()\n",
    "\n",
    "#finaldAll.boxplot('Tumor Volume (mm3)')\n",
    "\n",
    "data = [CapVols, RamVols, InfVols , CefVols]\n",
    "\n",
    "fig7, ax7 = plt.subplots()\n",
    "ax7.set_title('Tumor volumes for four regimens')\n",
    "plt.xlabel('Drug regimen')\n",
    "plt.ylabel('Tumor Volume (mm3)')\n",
    "ax7.boxplot(data, 0, 'gD')\n",
    "ax7.set_xticklabels(['Capomulin', 'Ramican', 'Infubinol', 'Ceftamin'])\n",
    "\n",
    "plt.show()"
   ]
  },
  {
   "cell_type": "code",
   "execution_count": 9,
   "metadata": {},
   "outputs": [
    {
     "data": {
      "text/plain": [
       "KruskalResult(statistic=47.39183610755443, pvalue=5.116742310962524e-11)"
      ]
     },
     "execution_count": 9,
     "metadata": {},
     "output_type": "execute_result"
    }
   ],
   "source": [
    "\n",
    "st.kruskal(CapVols, RamVols, CefVols)"
   ]
  },
  {
   "cell_type": "code",
   "execution_count": 10,
   "metadata": {},
   "outputs": [
    {
     "data": {
      "text/plain": [
       "F_onewayResult(statistic=84.3587159235669, pvalue=1.348026351172997e-19)"
      ]
     },
     "execution_count": 10,
     "metadata": {},
     "output_type": "execute_result"
    }
   ],
   "source": [
    "st.f_oneway(CapVols, RamVols, CefVols)"
   ]
  },
  {
   "cell_type": "markdown",
   "metadata": {},
   "source": [
    "## Line and scatter plots"
   ]
  },
  {
   "cell_type": "code",
   "execution_count": 11,
   "metadata": {},
   "outputs": [
    {
     "data": {
      "text/plain": [
       "Text(0.5, 1.0, 'results for mouse s185')"
      ]
     },
     "execution_count": 11,
     "metadata": {},
     "output_type": "execute_result"
    },
    {
     "data": {
      "image/png": "[encoded data removed]",
      "text/plain": [
       "<Figure size 432x288 with 1 Axes>"
      ]
     },
     "metadata": {
      "needs_background": "light"
     },
     "output_type": "display_data"
    }
   ],
   "source": [
    "# Generate a line plot of time point versus tumor volume for a mouse treated with Capomulin\n",
    "\n",
    "\n",
    "#print(CapVols)\n",
    "mouseVals = ds[ds['Drug Regimen']=='Capomulin']\n",
    "mouseVals2 = mouseVals[mouseVals['Mouse ID'] == 's185']\n",
    "#print(mouseVals)\n",
    "#plt.plot(mouseVals)\n",
    "\n",
    "mouseTV = mouseVals2['Tumor Volume (mm3)'].tolist()\n",
    "mouseTime = mouseVals2['Timepoint'].tolist()\n",
    "\n",
    "plt.plot(mouseTime,mouseTV)\n",
    "plt.xlabel(\"Time Point (days)\")\n",
    "plt.ylabel(\"Tumor Volume (mm3)\")\n",
    "plt.title('results for mouse s185')\n"
   ]
  },
  {
   "cell_type": "code",
   "execution_count": 12,
   "metadata": {
    "scrolled": true
   },
   "outputs": [
    {
     "name": "stdout",
     "output_type": "stream",
     "text": [
      "The r-squared is: 0.8419363424694718\n"
     ]
    },
    {
     "data": {
      "text/plain": [
       "Text(0.5, 1.0, 'mouse weight versus average tumor volume for the Capomulin regimen')"
      ]
     },
     "execution_count": 12,
     "metadata": {},
     "output_type": "execute_result"
    },
    {
     "data": {
      "image/png": "[encoded data removed]",
      "text/plain": [
       "<Figure size 432x288 with 1 Axes>"
      ]
     },
     "metadata": {
      "needs_background": "light"
     },
     "output_type": "display_data"
    }
   ],
   "source": [
    "# Generate a scatter plot of mouse weight versus average tumor volume for the Capomulin regimen\n",
    "\n",
    "mouseVals = ds[ds['Drug Regimen']=='Capomulin']\n",
    "#print(mouseVals)\n",
    "\n",
    "mv5 = mouseVals.groupby(['Mouse ID']).mean()\n",
    "mv6 = mv5['Tumor Volume (mm3)'].tolist()\n",
    "mv7 = mv5['Weight (g)'].tolist()\n",
    "(slope, intercept, rvalue, pvalue, stderr) = linregress(mv7, mv6)\n",
    "print(f\"The r-squared is: {rvalue}\")\n",
    "\n",
    "regress_values = []\n",
    "for i in mv7:\n",
    "    \n",
    "    regress_values.append ( i * slope + intercept )\n",
    "plt.plot(mv7,regress_values,\"r-\")\n",
    "plt.scatter(mv7, mv6, alpha=0.5)\n",
    "plt.xlabel(\"Mouse Weight (g)\")\n",
    "plt.ylabel(\"Mean Tumor Volume (mm3)\")\n",
    "plt.title('mouse weight versus average tumor volume for the Capomulin regimen')"
   ]
  },
  {
   "cell_type": "code",
   "execution_count": 13,
   "metadata": {},
   "outputs": [
    {
     "name": "stdout",
     "output_type": "stream",
     "text": [
      "The correlation between both factors is 0.84\n"
     ]
    }
   ],
   "source": [
    "# Calculate the correlation coefficient and linear regression model for mouse weight and average tumor volume for the Capomulin regimen\n",
    "correlation = st.pearsonr(mv7,mv6)\n",
    "print(f\"The correlation between both factors is {round(correlation[0],2)}\")\n",
    "\n",
    "\n"
   ]
  },
  {
   "cell_type": "code",
   "execution_count": null,
   "metadata": {},
   "outputs": [],
   "source": []
  }
 ],
 "metadata": {
  "anaconda-cloud": {},
  "kernelspec": {
   "display_name": "Python 3",
   "language": "python",
   "name": "python3"
  },
  "language_info": {
   "codemirror_mode": {
    "name": "ipython",
    "version": 3
   },
   "file_extension": ".py",
   "mimetype": "text/x-python",
   "name": "python",
   "nbconvert_exporter": "python",
   "pygments_lexer": "ipython3",
   "version": "3.7.4"
  }
 },
 "nbformat": 4,
 "nbformat_minor": 2
}

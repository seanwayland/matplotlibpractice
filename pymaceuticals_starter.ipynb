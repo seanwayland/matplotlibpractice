{
 "cells": [
  {
   "cell_type": "markdown",
   "metadata": {},
   "source": [
    "## Observations and Insights"
   ]
  },
  {
   "cell_type": "markdown",
   "metadata": {},
   "source": []
  },
  {
   "cell_type": "markdown",
   "metadata": {},
   "source": [
    "## Dependencies and starter code"
   ]
  },
  {
   "cell_type": "code",
   "execution_count": 1,
   "metadata": {},
   "outputs": [
    {
     "data": {
      "text/html": [
       "<div>\n",
       "<style scoped>\n",
       "    .dataframe tbody tr th:only-of-type {\n",
       "        vertical-align: middle;\n",
       "    }\n",
       "\n",
       "    .dataframe tbody tr th {\n",
       "        vertical-align: top;\n",
       "    }\n",
       "\n",
       "    .dataframe thead th {\n",
       "        text-align: right;\n",
       "    }\n",
       "</style>\n",
       "<table border=\"1\" class=\"dataframe\">\n",
       "  <thead>\n",
       "    <tr style=\"text-align: right;\">\n",
       "      <th></th>\n",
       "      <th>Mouse ID</th>\n",
       "      <th>Drug Regimen</th>\n",
       "      <th>Sex</th>\n",
       "      <th>Age_months</th>\n",
       "      <th>Weight (g)</th>\n",
       "      <th>Timepoint</th>\n",
       "      <th>Tumor Volume (mm3)</th>\n",
       "      <th>Metastatic Sites</th>\n",
       "    </tr>\n",
       "  </thead>\n",
       "  <tbody>\n",
       "    <tr>\n",
       "      <td>0</td>\n",
       "      <td>k403</td>\n",
       "      <td>Ramicane</td>\n",
       "      <td>Male</td>\n",
       "      <td>21</td>\n",
       "      <td>16</td>\n",
       "      <td>0</td>\n",
       "      <td>45.000000</td>\n",
       "      <td>0</td>\n",
       "    </tr>\n",
       "    <tr>\n",
       "      <td>1</td>\n",
       "      <td>k403</td>\n",
       "      <td>Ramicane</td>\n",
       "      <td>Male</td>\n",
       "      <td>21</td>\n",
       "      <td>16</td>\n",
       "      <td>5</td>\n",
       "      <td>38.825898</td>\n",
       "      <td>0</td>\n",
       "    </tr>\n",
       "    <tr>\n",
       "      <td>2</td>\n",
       "      <td>k403</td>\n",
       "      <td>Ramicane</td>\n",
       "      <td>Male</td>\n",
       "      <td>21</td>\n",
       "      <td>16</td>\n",
       "      <td>10</td>\n",
       "      <td>35.014271</td>\n",
       "      <td>1</td>\n",
       "    </tr>\n",
       "    <tr>\n",
       "      <td>3</td>\n",
       "      <td>k403</td>\n",
       "      <td>Ramicane</td>\n",
       "      <td>Male</td>\n",
       "      <td>21</td>\n",
       "      <td>16</td>\n",
       "      <td>15</td>\n",
       "      <td>34.223992</td>\n",
       "      <td>1</td>\n",
       "    </tr>\n",
       "    <tr>\n",
       "      <td>4</td>\n",
       "      <td>k403</td>\n",
       "      <td>Ramicane</td>\n",
       "      <td>Male</td>\n",
       "      <td>21</td>\n",
       "      <td>16</td>\n",
       "      <td>20</td>\n",
       "      <td>32.997729</td>\n",
       "      <td>1</td>\n",
       "    </tr>\n",
       "    <tr>\n",
       "      <td>...</td>\n",
       "      <td>...</td>\n",
       "      <td>...</td>\n",
       "      <td>...</td>\n",
       "      <td>...</td>\n",
       "      <td>...</td>\n",
       "      <td>...</td>\n",
       "      <td>...</td>\n",
       "      <td>...</td>\n",
       "    </tr>\n",
       "    <tr>\n",
       "      <td>1888</td>\n",
       "      <td>z969</td>\n",
       "      <td>Naftisol</td>\n",
       "      <td>Male</td>\n",
       "      <td>9</td>\n",
       "      <td>30</td>\n",
       "      <td>25</td>\n",
       "      <td>63.145652</td>\n",
       "      <td>2</td>\n",
       "    </tr>\n",
       "    <tr>\n",
       "      <td>1889</td>\n",
       "      <td>z969</td>\n",
       "      <td>Naftisol</td>\n",
       "      <td>Male</td>\n",
       "      <td>9</td>\n",
       "      <td>30</td>\n",
       "      <td>30</td>\n",
       "      <td>65.841013</td>\n",
       "      <td>3</td>\n",
       "    </tr>\n",
       "    <tr>\n",
       "      <td>1890</td>\n",
       "      <td>z969</td>\n",
       "      <td>Naftisol</td>\n",
       "      <td>Male</td>\n",
       "      <td>9</td>\n",
       "      <td>30</td>\n",
       "      <td>35</td>\n",
       "      <td>69.176246</td>\n",
       "      <td>4</td>\n",
       "    </tr>\n",
       "    <tr>\n",
       "      <td>1891</td>\n",
       "      <td>z969</td>\n",
       "      <td>Naftisol</td>\n",
       "      <td>Male</td>\n",
       "      <td>9</td>\n",
       "      <td>30</td>\n",
       "      <td>40</td>\n",
       "      <td>70.314904</td>\n",
       "      <td>4</td>\n",
       "    </tr>\n",
       "    <tr>\n",
       "      <td>1892</td>\n",
       "      <td>z969</td>\n",
       "      <td>Naftisol</td>\n",
       "      <td>Male</td>\n",
       "      <td>9</td>\n",
       "      <td>30</td>\n",
       "      <td>45</td>\n",
       "      <td>73.867845</td>\n",
       "      <td>4</td>\n",
       "    </tr>\n",
       "  </tbody>\n",
       "</table>\n",
       "<p>1893 rows × 8 columns</p>\n",
       "</div>"
      ],
      "text/plain": [
       "     Mouse ID Drug Regimen   Sex  Age_months  Weight (g)  Timepoint  \\\n",
       "0        k403     Ramicane  Male          21          16          0   \n",
       "1        k403     Ramicane  Male          21          16          5   \n",
       "2        k403     Ramicane  Male          21          16         10   \n",
       "3        k403     Ramicane  Male          21          16         15   \n",
       "4        k403     Ramicane  Male          21          16         20   \n",
       "...       ...          ...   ...         ...         ...        ...   \n",
       "1888     z969     Naftisol  Male           9          30         25   \n",
       "1889     z969     Naftisol  Male           9          30         30   \n",
       "1890     z969     Naftisol  Male           9          30         35   \n",
       "1891     z969     Naftisol  Male           9          30         40   \n",
       "1892     z969     Naftisol  Male           9          30         45   \n",
       "\n",
       "      Tumor Volume (mm3)  Metastatic Sites  \n",
       "0              45.000000                 0  \n",
       "1              38.825898                 0  \n",
       "2              35.014271                 1  \n",
       "3              34.223992                 1  \n",
       "4              32.997729                 1  \n",
       "...                  ...               ...  \n",
       "1888           63.145652                 2  \n",
       "1889           65.841013                 3  \n",
       "1890           69.176246                 4  \n",
       "1891           70.314904                 4  \n",
       "1892           73.867845                 4  \n",
       "\n",
       "[1893 rows x 8 columns]"
      ]
     },
     "execution_count": 1,
     "metadata": {},
     "output_type": "execute_result"
    }
   ],
   "source": [
    "# Dependencies and Setup\n",
    "import matplotlib.pyplot as plt\n",
    "import pandas as pd\n",
    "import scipy.stats as st\n",
    "from matplotlib import pyplot as plt\n",
    "from scipy.stats import linregress\n",
    "import numpy as np\n",
    "from sklearn import datasets\n",
    "\n",
    "\n",
    "# Study data files\n",
    "mouse_metadata = \"data/Mouse_metadata.csv\"\n",
    "study_results = \"data/Study_results.csv\"\n",
    "\n",
    "# Read the mouse data and the study results\n",
    "mouse_metadata = pd.read_csv(mouse_metadata)\n",
    "study_results = pd.read_csv(study_results)\n",
    "\n",
    "# Combine the data into a single dataset\n",
    "ds = pd.merge(mouse_metadata, study_results, how=\"left\", on=[\"Mouse ID\"])\n",
    "ds\n"
   ]
  },
  {
   "cell_type": "markdown",
   "metadata": {},
   "source": [
    "## Summary statistics"
   ]
  },
  {
   "cell_type": "code",
   "execution_count": 2,
   "metadata": {},
   "outputs": [
    {
     "data": {
      "text/html": [
       "<div>\n",
       "<style scoped>\n",
       "    .dataframe tbody tr th:only-of-type {\n",
       "        vertical-align: middle;\n",
       "    }\n",
       "\n",
       "    .dataframe tbody tr th {\n",
       "        vertical-align: top;\n",
       "    }\n",
       "\n",
       "    .dataframe thead th {\n",
       "        text-align: right;\n",
       "    }\n",
       "</style>\n",
       "<table border=\"1\" class=\"dataframe\">\n",
       "  <thead>\n",
       "    <tr style=\"text-align: right;\">\n",
       "      <th>Drug Regimen</th>\n",
       "      <th>Capomulin</th>\n",
       "      <th>Ceftamin</th>\n",
       "      <th>Infubinol</th>\n",
       "      <th>Ketapril</th>\n",
       "      <th>Naftisol</th>\n",
       "      <th>Placebo</th>\n",
       "      <th>Propriva</th>\n",
       "      <th>Ramicane</th>\n",
       "      <th>Stelasyn</th>\n",
       "      <th>Zoniferol</th>\n",
       "    </tr>\n",
       "  </thead>\n",
       "  <tbody>\n",
       "    <tr>\n",
       "      <td>mean</td>\n",
       "      <td>40.675741</td>\n",
       "      <td>52.591172</td>\n",
       "      <td>52.884795</td>\n",
       "      <td>55.235638</td>\n",
       "      <td>54.331565</td>\n",
       "      <td>54.033581</td>\n",
       "      <td>52.322552</td>\n",
       "      <td>40.216745</td>\n",
       "      <td>54.233149</td>\n",
       "      <td>53.236507</td>\n",
       "    </tr>\n",
       "    <tr>\n",
       "      <td>Median</td>\n",
       "      <td>41.557809</td>\n",
       "      <td>51.776157</td>\n",
       "      <td>51.820584</td>\n",
       "      <td>53.698743</td>\n",
       "      <td>52.509285</td>\n",
       "      <td>52.288934</td>\n",
       "      <td>50.854632</td>\n",
       "      <td>40.673236</td>\n",
       "      <td>52.431737</td>\n",
       "      <td>51.818479</td>\n",
       "    </tr>\n",
       "    <tr>\n",
       "      <td>Var</td>\n",
       "      <td>24.947764</td>\n",
       "      <td>39.290177</td>\n",
       "      <td>43.128684</td>\n",
       "      <td>68.553577</td>\n",
       "      <td>66.173479</td>\n",
       "      <td>61.168083</td>\n",
       "      <td>42.351070</td>\n",
       "      <td>23.486704</td>\n",
       "      <td>59.450562</td>\n",
       "      <td>48.533355</td>\n",
       "    </tr>\n",
       "    <tr>\n",
       "      <td>Std</td>\n",
       "      <td>4.994774</td>\n",
       "      <td>6.268188</td>\n",
       "      <td>6.567243</td>\n",
       "      <td>8.279709</td>\n",
       "      <td>8.134708</td>\n",
       "      <td>7.821003</td>\n",
       "      <td>6.507770</td>\n",
       "      <td>4.846308</td>\n",
       "      <td>7.710419</td>\n",
       "      <td>6.966589</td>\n",
       "    </tr>\n",
       "    <tr>\n",
       "      <td>SEM</td>\n",
       "      <td>0.329346</td>\n",
       "      <td>0.469821</td>\n",
       "      <td>0.492236</td>\n",
       "      <td>0.603860</td>\n",
       "      <td>0.596466</td>\n",
       "      <td>0.581331</td>\n",
       "      <td>0.512884</td>\n",
       "      <td>0.320955</td>\n",
       "      <td>0.573111</td>\n",
       "      <td>0.516398</td>\n",
       "    </tr>\n",
       "  </tbody>\n",
       "</table>\n",
       "</div>"
      ],
      "text/plain": [
       "Drug Regimen  Capomulin   Ceftamin  Infubinol   Ketapril   Naftisol  \\\n",
       "mean          40.675741  52.591172  52.884795  55.235638  54.331565   \n",
       "Median        41.557809  51.776157  51.820584  53.698743  52.509285   \n",
       "Var           24.947764  39.290177  43.128684  68.553577  66.173479   \n",
       "Std            4.994774   6.268188   6.567243   8.279709   8.134708   \n",
       "SEM            0.329346   0.469821   0.492236   0.603860   0.596466   \n",
       "\n",
       "Drug Regimen    Placebo   Propriva   Ramicane   Stelasyn  Zoniferol  \n",
       "mean          54.033581  52.322552  40.216745  54.233149  53.236507  \n",
       "Median        52.288934  50.854632  40.673236  52.431737  51.818479  \n",
       "Var           61.168083  42.351070  23.486704  59.450562  48.533355  \n",
       "Std            7.821003   6.507770   4.846308   7.710419   6.966589  \n",
       "SEM            0.581331   0.512884   0.320955   0.573111   0.516398  "
      ]
     },
     "execution_count": 2,
     "metadata": {},
     "output_type": "execute_result"
    }
   ],
   "source": [
    "# Generate a summary statistics table of mean, median, variance, standard deviation, and SEM of the tumor volume for each regimen\n",
    "\n",
    "dsMean = pd.DataFrame(ds.groupby(\"Drug Regimen\").mean())\n",
    "dsMean = dsMean['Tumor Volume (mm3)']\n",
    "dsMedian = pd.DataFrame(ds.groupby(\"Drug Regimen\").median())\n",
    "dsMedian = dsMedian['Tumor Volume (mm3)']\n",
    "dsVar = pd.DataFrame(ds.groupby(\"Drug Regimen\").var())\n",
    "dsVar = dsVar['Tumor Volume (mm3)']\n",
    "dsStd = pd.DataFrame(ds.groupby(\"Drug Regimen\").std())\n",
    "dsStd = dsStd['Tumor Volume (mm3)']\n",
    "dsSem = pd.DataFrame(ds.groupby(\"Drug Regimen\").sem())\n",
    "dsSem = dsSem['Tumor Volume (mm3)']\n",
    "\n",
    "dsStats = pd.DataFrame([dsMean,dsMedian,dsVar,dsStd,dsSem],index=['mean','Median','Var','Std','SEM'])\n",
    "\n",
    "dsStats\n",
    "\n",
    "\n",
    "\n"
   ]
  },
  {
   "cell_type": "markdown",
   "metadata": {},
   "source": [
    "## Bar plots"
   ]
  },
  {
   "cell_type": "code",
   "execution_count": 3,
   "metadata": {
    "scrolled": true
   },
   "outputs": [
    {
     "data": {
      "image/png": "[encoded data removed]",
      "text/plain": [
       "<Figure size 432x288 with 1 Axes>"
      ]
     },
     "metadata": {
      "needs_background": "light"
     },
     "output_type": "display_data"
    }
   ],
   "source": [
    "# Generate a bar plot showing number of data points for each treatment regimen using pandas\n",
    "dsCount = ds.groupby(\"Drug Regimen\").count()\n",
    "dsCount['data points'] = dsCount['Mouse ID']\n",
    "ax = dsCount.plot.bar(y = \"data points\")\n"
   ]
  },
  {
   "cell_type": "code",
   "execution_count": 4,
   "metadata": {},
   "outputs": [
    {
     "data": {
      "text/plain": [
       "Text(0.5, 1.0, 'Data Points by Drug Regimen')"
      ]
     },
     "execution_count": 4,
     "metadata": {},
     "output_type": "execute_result"
    },
    {
     "data": {
      "image/png": "[encoded data removed]",
      "text/plain": [
       "<Figure size 432x288 with 1 Axes>"
      ]
     },
     "metadata": {
      "needs_background": "light"
     },
     "output_type": "display_data"
    }
   ],
   "source": [
    "# Generate a bar plot showing number of data points for each treatment regimen using pyplot\n",
    "labels = dsCount.index.tolist()\n",
    "#print(labels)\n",
    "\n",
    "plt.bar(labels, dsCount['Mouse ID'], width = 0.5)\n",
    "plt.xticks(rotation=90)\n",
    "plt.title('Data Points by Drug Regimen')\n",
    "\n"
   ]
  },
  {
   "cell_type": "markdown",
   "metadata": {},
   "source": [
    "## Pie plots"
   ]
  },
  {
   "cell_type": "code",
   "execution_count": 5,
   "metadata": {},
   "outputs": [
    {
     "data": {
      "text/plain": [
       "<matplotlib.axes._subplots.AxesSubplot at 0x2ddfe74d948>"
      ]
     },
     "execution_count": 5,
     "metadata": {},
     "output_type": "execute_result"
    },
    {
     "data": {
      "image/png": "[encoded data removed]",
      "text/plain": [
       "<Figure size 432x288 with 1 Axes>"
      ]
     },
     "metadata": {},
     "output_type": "display_data"
    }
   ],
   "source": [
    "# Generate a pie plot showing the distribution of female versus male mice using pandas\n",
    "SexCount = mouse_metadata.groupby(\"Sex\").count()\n",
    "SexCount['sex of mice'] = SexCount['Mouse ID']\n",
    "\n",
    "#print(SexCount)\n",
    "plot = SexCount.plot.pie(y='sex of mice', legend=False)\n",
    "plot\n",
    "\n",
    "\n"
   ]
  },
  {
   "cell_type": "code",
   "execution_count": 6,
   "metadata": {},
   "outputs": [
    {
     "data": {
      "image/png": "[encoded data removed]",
      "text/plain": [
       "<Figure size 432x288 with 1 Axes>"
      ]
     },
     "metadata": {},
     "output_type": "display_data"
    }
   ],
   "source": [
    "# Generate a pie plot showing the distribution of female versus male mice using pyplot\n",
    "fig1, ax1 = plt.subplots()\n",
    "\n",
    "\n",
    "ax1.pie(SexCount['sex of mice'],labels = ('Male','Female'))\n",
    "ax1.set(title = \"sex of mice\")\n",
    "#ax1.axis('equal')  # Equal aspect ratio ensures that pie is drawn as a circle.\n",
    "\n",
    "plt.show()\n"
   ]
  },
  {
   "cell_type": "markdown",
   "metadata": {},
   "source": [
    "## Quartiles, outliers and boxplots"
   ]
  },
  {
   "cell_type": "code",
   "execution_count": 7,
   "metadata": {},
   "outputs": [
    {
     "name": "stdout",
     "output_type": "stream",
     "text": [
      "     Mouse ID Drug Regimen     Sex  Age_months  Weight (g)  Timepoint  \\\n",
      "9        k403     Ramicane    Male          21          16         45   \n",
      "19       s185    Capomulin  Female           3          17         45   \n",
      "29       x401    Capomulin  Female          16          15         45   \n",
      "39       m601    Capomulin    Male          22          17         45   \n",
      "49       g791     Ramicane    Male          11          16         45   \n",
      "...       ...          ...     ...         ...         ...        ...   \n",
      "1845     y769     Ceftamin  Female           6          27         45   \n",
      "1855     y865     Ceftamin    Male          23          26         45   \n",
      "1872     z581    Infubinol  Female          24          25         45   \n",
      "1882     z795     Naftisol  Female          13          29         45   \n",
      "1892     z969     Naftisol    Male           9          30         45   \n",
      "\n",
      "      Tumor Volume (mm3)  Metastatic Sites  \n",
      "9              22.050126                 1  \n",
      "19             23.343598                 1  \n",
      "29             28.484033                 0  \n",
      "39             28.430964                 1  \n",
      "49             29.128472                 1  \n",
      "...                  ...               ...  \n",
      "1845           68.594745                 4  \n",
      "1855           64.729837                 3  \n",
      "1872           62.754451                 3  \n",
      "1882           65.741070                 3  \n",
      "1892           73.867845                 4  \n",
      "\n",
      "[130 rows x 8 columns]\n",
      "     Mouse ID Drug Regimen     Sex  Age_months  Weight (g)  Timepoint  \\\n",
      "463      a203    Infubinol  Female          20          23         45   \n",
      "473      a251    Infubinol  Female          21          25         45   \n",
      "540      a685    Infubinol    Male           8          30         45   \n",
      "637      c139    Infubinol    Male          11          28         45   \n",
      "800      e476    Infubinol    Male          23          26         45   \n",
      "834      f345    Infubinol    Male          23          26         45   \n",
      "1053     k483    Infubinol  Female          20          30         45   \n",
      "1813     y163    Infubinol  Female          17          27         45   \n",
      "1872     z581    Infubinol  Female          24          25         45   \n",
      "\n",
      "      Tumor Volume (mm3)  Metastatic Sites  \n",
      "463            67.973419                 2  \n",
      "473            65.525743                 1  \n",
      "540            66.083066                 3  \n",
      "637            72.226731                 2  \n",
      "800            62.435404                 1  \n",
      "834            60.918767                 1  \n",
      "1053           66.196912                 3  \n",
      "1813           67.685569                 3  \n",
      "1872           62.754451                 3  \n",
      "The interquartile range of Capomulin is: 7.781863460000004\n",
      "The interquartile range of Ramican is: 7.527130082499998\n",
      "The interquartile range of Infubinol is: 4.9311172099999965\n",
      "The interquartile range of Ceftamin is: 6.093590140000003\n",
      "Capomulin values below 20.70456164999999 could be outliers.\n",
      "Ramican values below 19.690480101250003 could be outliers.\n",
      "Infubinol values below 55.35777559500001 could be outliers.\n",
      "Ceftamin values below 52.29350701999999 could be outliers.\n",
      "Capomulin values above 51.83201549 could be outliers.\n",
      "Ramican values above 49.79900043124999 could be outliers.\n",
      "Infubinol values above 75.08224443499999 could be outliers.\n",
      "Ceftamin values above 76.66786758 could be outliers.\n",
      "[]\n",
      "No outliers in Capomulin values\n",
      "[]\n",
      "No outliers in Ramican values\n",
      "[]\n",
      "No outliers in Infubinol values\n",
      "[]\n",
      "No outliers in Ceftamin values\n"
     ]
    },
    {
     "name": "stderr",
     "output_type": "stream",
     "text": [
      "C:\\Users\\seanw\\Anaconda333\\lib\\site-packages\\ipykernel_launcher.py:7: UserWarning: Boolean Series key will be reindexed to match DataFrame index.\n",
      "  import sys\n",
      "C:\\Users\\seanw\\Anaconda333\\lib\\site-packages\\ipykernel_launcher.py:9: UserWarning: Boolean Series key will be reindexed to match DataFrame index.\n",
      "  if __name__ == '__main__':\n",
      "C:\\Users\\seanw\\Anaconda333\\lib\\site-packages\\ipykernel_launcher.py:13: UserWarning: Boolean Series key will be reindexed to match DataFrame index.\n",
      "  del sys.path[0]\n",
      "C:\\Users\\seanw\\Anaconda333\\lib\\site-packages\\ipykernel_launcher.py:18: UserWarning: Boolean Series key will be reindexed to match DataFrame index.\n"
     ]
    }
   ],
   "source": [
    "\n",
    "\n",
    "# Calculate the final tumor volume of each mouse across four of the most promising treatment regimens. Calculate the IQR and quantitatively determine if there are any potential outliers.\n",
    "\n",
    "finalds = ds[ds['Timepoint']==45]\n",
    "#finalds = finalds[finalds['Drug Regimen'].isin(['Capomulin', 'Ramicane' ,'Infubinol' , 'Ceftamin'])]\n",
    "print(finalds)\n",
    "\n",
    "finaldCap = finalds[ds['Drug Regimen']=='Capomulin']\n",
    "\n",
    "finaldRam = finalds[ds['Drug Regimen']=='Ramicane']\n",
    "\n",
    "\n",
    "\n",
    "finaldInf = finalds[ds['Drug Regimen']=='Infubinol']\n",
    "\n",
    "print(finaldInf)\n",
    "\n",
    "\n",
    "finaldCef = finalds[ds['Drug Regimen']=='Ceftamin']\n",
    "\n",
    "\n",
    "\n",
    "\n",
    "quartilesCap = finaldCap['Tumor Volume (mm3)'].quantile([.25,.5,.75])\n",
    "quartilesRam = finaldRam['Tumor Volume (mm3)'].quantile([.25,.5,.75])\n",
    "quartilesInf = finaldInf['Tumor Volume (mm3)'].quantile([.25,.5,.75])\n",
    "quartilesCef = finaldCef['Tumor Volume (mm3)'].quantile([.25,.5,.75])\n",
    "\n",
    "lowerqCap = quartilesCap[0.25]\n",
    "lowerqRam = quartilesRam[0.25]\n",
    "lowerqInf = quartilesInf[0.25]\n",
    "lowerqCef = quartilesCef[0.25]\n",
    "\n",
    "upperqCap = quartilesCap[0.75]\n",
    "upperqRam = quartilesRam[0.75]\n",
    "upperqInf = quartilesInf[0.75]\n",
    "upperqCef = quartilesCef[0.75]\n",
    "\n",
    "iqrCap = upperqCap-lowerqCap\n",
    "iqrRam = upperqRam-lowerqRam\n",
    "iqrInf = upperqInf-lowerqInf\n",
    "iqrCef = upperqCef-lowerqCef\n",
    "\n",
    "\n",
    "print(f\"The interquartile range of Capomulin is: {iqrCap}\")\n",
    "print(f\"The interquartile range of Ramican is: {iqrRam}\")\n",
    "print(f\"The interquartile range of Infubinol is: {iqrInf}\")\n",
    "print(f\"The interquartile range of Ceftamin is: {iqrCef}\")\n",
    "\n",
    "\n",
    "\n",
    "lowerBoundCap = lowerqCap - (1.5*iqrCap)\n",
    "lowerBoundRam = lowerqRam - (1.5*iqrRam)\n",
    "lowerBoundInf = lowerqInf - (1.5*iqrInf)\n",
    "lowerBoundCef = lowerqCef - (1.5*iqrCef)\n",
    "\n",
    "upperBoundCap = upperqCap + (1.5*iqrCap)\n",
    "upperBoundRam = upperqRam + (1.5*iqrRam)\n",
    "upperBoundInf = upperqInf + (1.5*iqrInf)\n",
    "upperBoundCef = upperqCef + (1.5*iqrCef)\n",
    "\n",
    "\n",
    "print(f\"Capomulin values below {lowerBoundCap} could be outliers.\")\n",
    "print(f\"Ramican values below {lowerBoundRam} could be outliers.\")\n",
    "print(f\"Infubinol values below {lowerBoundInf} could be outliers.\")\n",
    "print(f\"Ceftamin values below {lowerBoundCef} could be outliers.\")\n",
    "\n",
    "print(f\"Capomulin values above {upperBoundCap} could be outliers.\")\n",
    "print(f\"Ramican values above {upperBoundRam} could be outliers.\")\n",
    "print(f\"Infubinol values above {upperBoundInf} could be outliers.\")\n",
    "print(f\"Ceftamin values above {upperBoundCef} could be outliers.\")\n",
    "\n",
    "\n",
    "\n",
    "outliersCap = []\n",
    "for value in finaldCap['Tumor Volume (mm3)'] :\n",
    "        if value > upperBoundCap + 1.5*iqrCap or value < lowerBoundCap - 1.5*iqrCap:\n",
    "            outliersCap.append(value)\n",
    "\n",
    "print(outliersCap)\n",
    "if not outliersCap:\n",
    "  print(\"No outliers in Capomulin values\")\n",
    "else:\n",
    " print(\"outliers in Capomulin values\")\n",
    "\n",
    "outliersRam = []\n",
    "for value in finaldRam['Tumor Volume (mm3)'] :\n",
    "        if value > upperBoundRam + 1.5*iqrRam or value < lowerBoundRam - 1.5*iqrRam:\n",
    "            outliersRam.append(value)\n",
    "\n",
    " \n",
    "print(outliersRam)\n",
    "if not outliersRam:\n",
    "  print(\"No outliers in Ramican values\")\n",
    "else:\n",
    " print(\"outliers in Ramican values\")\n",
    "\n",
    "outliersInf = []\n",
    "for value in finaldInf['Tumor Volume (mm3)'] :\n",
    "        if value > upperBoundInf + 1.5*iqrInf or value < lowerBoundInf - 1.5*iqrInf:\n",
    "            outliersInf.append(value)\n",
    "\n",
    "print(outliersInf)\n",
    "\n",
    "if not outliersInf:\n",
    "  print(\"No outliers in Infubinol values\")\n",
    "else:\n",
    " print(\"outliers in Infubinol values\")\n",
    "\n",
    "outliersCef = []\n",
    "for value in finaldCef['Tumor Volume (mm3)'] :\n",
    "        if value > upperBoundCef + 1.5*iqrCef or value < lowerBoundCef - 1.5*iqrCef:\n",
    "            outliersCef.append(value)\n",
    "\n",
    "print(outliersCef) \n",
    "if not outliersCef:\n",
    "  print(\"No outliers in Ceftamin values\")\n",
    "else:\n",
    " print(\"Outliers in Ceftamin values\")\n"
   ]
  },
  {
   "cell_type": "code",
   "execution_count": 8,
   "metadata": {},
   "outputs": [
    {
     "data": {
      "image/png": "[encoded data removed]",
      "text/plain": [
       "<Figure size 432x288 with 1 Axes>"
      ]
     },
     "metadata": {
      "needs_background": "light"
     },
     "output_type": "display_data"
    }
   ],
   "source": [
    "# Generate a box plot of the final tumor volume of each mouse across four regimens of interest\n",
    "\n",
    "#finaldCap\n",
    "CapVols = finaldCap['Tumor Volume (mm3)'].tolist()\n",
    "RamVols = finaldRam['Tumor Volume (mm3)'].tolist()\n",
    "InfVols = finaldInf['Tumor Volume (mm3)'].tolist()\n",
    "CefVols = finaldCef['Tumor Volume (mm3)'].tolist()\n",
    "\n",
    "#finaldAll.boxplot('Tumor Volume (mm3)')\n",
    "\n",
    "data = [CapVols, RamVols, InfVols , CefVols]\n",
    "fig7, ax7 = plt.subplots()\n",
    "ax7.set_title('Tumor volumes for four regimens')\n",
    "ax7.boxplot(data)\n",
    "ax7.set_xticklabels(['Capomulin', 'Ramican', 'Infubinol', 'Ceftamin'])\n",
    "\n",
    "plt.show()"
   ]
  },
  {
   "cell_type": "markdown",
   "metadata": {},
   "source": [
    "## Line and scatter plots"
   ]
  },
  {
   "cell_type": "code",
   "execution_count": 9,
   "metadata": {},
   "outputs": [
    {
     "name": "stdout",
     "output_type": "stream",
     "text": [
      "     Mouse ID Drug Regimen     Sex  Age_months  Weight (g)  Timepoint  \\\n",
      "10       s185    Capomulin  Female           3          17          0   \n",
      "11       s185    Capomulin  Female           3          17          5   \n",
      "12       s185    Capomulin  Female           3          17         10   \n",
      "13       s185    Capomulin  Female           3          17         15   \n",
      "14       s185    Capomulin  Female           3          17         20   \n",
      "...       ...          ...     ...         ...         ...        ...   \n",
      "440      i557    Capomulin  Female           1          24         45   \n",
      "1452     r157    Capomulin    Male          22          25          0   \n",
      "1453     r157    Capomulin    Male          22          25          5   \n",
      "1454     r157    Capomulin    Male          22          25         10   \n",
      "1455     r157    Capomulin    Male          22          25         15   \n",
      "\n",
      "      Tumor Volume (mm3)  Metastatic Sites  \n",
      "10             45.000000                 0  \n",
      "11             43.878496                 0  \n",
      "12             37.614948                 0  \n",
      "13             38.177232                 0  \n",
      "14             36.866876                 0  \n",
      "...                  ...               ...  \n",
      "440            47.685963                 1  \n",
      "1452           45.000000                 0  \n",
      "1453           45.597064                 0  \n",
      "1454           46.059608                 0  \n",
      "1455           46.539206                 0  \n",
      "\n",
      "[230 rows x 8 columns]\n"
     ]
    },
    {
     "data": {
      "text/plain": [
       "Text(0.5, 1.0, 'results for mouse s185')"
      ]
     },
     "execution_count": 9,
     "metadata": {},
     "output_type": "execute_result"
    },
    {
     "data": {
      "image/png": "[encoded data removed]",
      "text/plain": [
       "<Figure size 432x288 with 1 Axes>"
      ]
     },
     "metadata": {
      "needs_background": "light"
     },
     "output_type": "display_data"
    }
   ],
   "source": [
    "# Generate a line plot of time point versus tumor volume for a mouse treated with Capomulin\n",
    "\n",
    "\n",
    "#print(CapVols)\n",
    "mouseVals = ds[ds['Drug Regimen']=='Capomulin']\n",
    "mouseVals2 = mouseVals[mouseVals['Mouse ID'] == 's185']\n",
    "print(mouseVals)\n",
    "#plt.plot(mouseVals)\n",
    "\n",
    "mouseTV = mouseVals2['Tumor Volume (mm3)'].tolist()\n",
    "mouseTime = mouseVals2['Timepoint'].tolist()\n",
    "\n",
    "plt.plot(mouseTime,mouseTV)\n",
    "plt.xlabel(\"Time Point (days)\")\n",
    "plt.ylabel(\"Tumor Volume (mm3)\")\n",
    "plt.title('results for mouse s185')\n"
   ]
  },
  {
   "cell_type": "code",
   "execution_count": 10,
   "metadata": {},
   "outputs": [
    {
     "data": {
      "text/plain": [
       "Text(0.5, 1.0, 'mouse weight versus average tumor volume for the Capomulin regimen')"
      ]
     },
     "execution_count": 10,
     "metadata": {},
     "output_type": "execute_result"
    },
    {
     "data": {
      "image/png": "[encoded data removed]",
      "text/plain": [
       "<Figure size 432x288 with 1 Axes>"
      ]
     },
     "metadata": {
      "needs_background": "light"
     },
     "output_type": "display_data"
    }
   ],
   "source": [
    "# Generate a scatter plot of mouse weight versus average tumor volume for the Capomulin regimen\n",
    "\n",
    "mouseVals = ds[ds['Drug Regimen']=='Capomulin']\n",
    "#print(mouseVals)\n",
    "\n",
    "mv5 = mouseVals.groupby(['Mouse ID']).mean()\n",
    "mv6 = mv5['Tumor Volume (mm3)'].tolist()\n",
    "mv7 = mv5['Weight (g)'].tolist()\n",
    "\n",
    "plt.scatter(mv7, mv6, alpha=0.5)\n",
    "plt.xlabel(\"Mouse Weight\")\n",
    "plt.ylabel(\"Mean Tumor Volume (mm3)\")\n",
    "plt.title('mouse weight versus average tumor volume for the Capomulin regimen')"
   ]
  },
  {
   "cell_type": "code",
   "execution_count": 11,
   "metadata": {},
   "outputs": [
    {
     "name": "stdout",
     "output_type": "stream",
     "text": [
      "The correlation between both factors is 0.84\n",
      "The r-squared is: 0.8419363424694718\n"
     ]
    },
    {
     "data": {
      "text/plain": [
       "[<matplotlib.lines.Line2D at 0x2ddfe98b5c8>]"
      ]
     },
     "execution_count": 11,
     "metadata": {},
     "output_type": "execute_result"
    },
    {
     "data": {
      "image/png": "[encoded data removed]",
      "text/plain": [
       "<Figure size 432x288 with 1 Axes>"
      ]
     },
     "metadata": {
      "needs_background": "light"
     },
     "output_type": "display_data"
    }
   ],
   "source": [
    "# Calculate the correlation coefficient and linear regression model for mouse weight and average tumor volume for the Capomulin regimen\n",
    "correlation = st.pearsonr(mv7,mv6)\n",
    "print(f\"The correlation between both factors is {round(correlation[0],2)}\")\n",
    "\n",
    "(slope, intercept, rvalue, pvalue, stderr) = linregress(mv7, mv6)\n",
    "print(f\"The r-squared is: {rvalue}\")\n",
    "\n",
    "regress_values = []\n",
    "for i in mv7:\n",
    "    \n",
    "    regress_values.append ( i * slope + intercept )\n",
    "plt.plot(mv7,regress_values,\"r-\")\n"
   ]
  },
  {
   "cell_type": "code",
   "execution_count": null,
   "metadata": {},
   "outputs": [],
   "source": []
  }
 ],
 "metadata": {
  "anaconda-cloud": {},
  "kernelspec": {
   "display_name": "Python 3",
   "language": "python",
   "name": "python3"
  },
  "language_info": {
   "codemirror_mode": {
    "name": "ipython",
    "version": 3
   },
   "file_extension": ".py",
   "mimetype": "text/x-python",
   "name": "python",
   "nbconvert_exporter": "python",
   "pygments_lexer": "ipython3",
   "version": "3.7.4"
  }
 },
 "nbformat": 4,
 "nbformat_minor": 2
}
